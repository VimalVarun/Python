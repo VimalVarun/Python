{
 "cells": [
  {
   "cell_type": "markdown",
   "metadata": {},
   "source": [
    "# Module 3: Data Structures Assignments\n",
    "## Lesson 3.1: List"
   ]
  },
  {
   "cell_type": "code",
   "execution_count": 1,
   "metadata": {},
   "outputs": [
    {
     "name": "stdout",
     "output_type": "stream",
     "text": [
      "[1, 2, 3, 4, 5, 6, 7, 8, 9, 10, 11, 12, 13, 14, 15, 16, 17, 18, 19, 20]\n"
     ]
    }
   ],
   "source": [
    "### Assignment 1: Creating and Accessing Lists\n",
    "\n",
    "#Create a list of the first 20 positive integers. Print the list.\n",
    "\n",
    "list1 = list(range(1, 21))\n",
    "print(list1)"
   ]
  },
  {
   "cell_type": "code",
   "execution_count": 2,
   "id": "fd94b14e",
   "metadata": {},
   "outputs": [
    {
     "name": "stdout",
     "output_type": "stream",
     "text": [
      "1\n",
      "11\n",
      "20\n"
     ]
    }
   ],
   "source": [
    "### Assignment 2: Accessing List Elements\n",
    "\n",
    "#Print the first, middle, and last elements of the list created in Assignment 1.\n",
    "\n",
    "print(list1[0])\n",
    "print(list1[10])\n",
    "print(list1[-1])"
   ]
  },
  {
   "cell_type": "code",
   "execution_count": 7,
   "id": "f74eba95",
   "metadata": {},
   "outputs": [
    {
     "name": "stdout",
     "output_type": "stream",
     "text": [
      "[1, 2, 3, 4, 5]\n",
      "[16, 17, 18, 19, 20]\n",
      "[6, 7, 8, 9, 10, 11, 12, 13, 14, 15]\n"
     ]
    }
   ],
   "source": [
    "### Assignment 3: List Slicing\n",
    "\n",
    "#Print the first five elements, the last five elements, and the elements from index 5 to 15 of the list created in Assignment 1.\n",
    "\n",
    "print(list1[:5])\n",
    "print(list1[15:])\n",
    "print(list1[5:15])"
   ]
  },
  {
   "cell_type": "code",
   "execution_count": 11,
   "id": "581fbfcf",
   "metadata": {},
   "outputs": [
    {
     "name": "stdout",
     "output_type": "stream",
     "text": [
      "[1, 4, 9, 16, 25, 36, 49, 64, 81, 100]\n"
     ]
    }
   ],
   "source": [
    "### Assignment 4: List Comprehensions\n",
    "\n",
    "#Create a new list containing the squares of the first 10 positive integers using a list comprehension. Print the new list.\n",
    "\n",
    "Square_number = [i**2 for i in range(1 ,11)]\n",
    "print(Square_number)"
   ]
  },
  {
   "cell_type": "code",
   "execution_count": 15,
   "id": "6e346d5f",
   "metadata": {},
   "outputs": [
    {
     "name": "stdout",
     "output_type": "stream",
     "text": [
      "[2, 4, 6, 8, 10, 12, 14, 16, 18, 20]\n"
     ]
    }
   ],
   "source": [
    "### Assignment 5: Filtering Lists\n",
    "\n",
    "#Create a new list containing only the even numbers from the list created in Assignment 1 using a list comprehension. Print the new list.\n",
    "\n",
    "even_number = [i for i in list1 if i%2==0]\n",
    "print(even_number)"
   ]
  },
  {
   "cell_type": "code",
   "execution_count": 22,
   "id": "c38eb039",
   "metadata": {},
   "outputs": [
    {
     "name": "stdout",
     "output_type": "stream",
     "text": [
      "The Orginal random_numbers:[20, 16, 6, 21, 15, 14, 1, 21, 5, 19, 11, 6, 20, 12, 10]\n",
      "This is the Orginal random_number in ascending order:[1, 5, 6, 6, 10, 11, 12, 14, 15, 16, 19, 20, 20, 21, 21]\n",
      "This is the orginal random_numbers in descending order:[21, 21, 20, 20, 19, 16, 15, 14, 12, 11, 10, 6, 6, 5, 1]\n",
      "deleted the duplicated values using set function:{1, 5, 6, 10, 11, 12, 14, 15, 16, 19, 20, 21}\n"
     ]
    }
   ],
   "source": [
    "### Assignment 6: List Methods\n",
    "\n",
    "#Create a list of random numbers and sort it in ascending and descending order. Remove the duplicates from the list and print the modified list.\n",
    "\n",
    "import random\n",
    "\n",
    "random_numbers = [random.randint(1, 21) for _ in range(15)]\n",
    "print(f\"The Orginal random_numbers:{random_numbers}\")\n",
    "\n",
    "ascending_order = sorted(random_numbers)\n",
    "print(f\"This is the Orginal random_number in ascending order:{ascending_order}\")\n",
    "\n",
    "descending_order = sorted(random_numbers, reverse=True)\n",
    "print(f\"This is the orginal random_numbers in descending order:{descending_order}\")\n",
    "\n",
    "no_deplicates_num = set(ascending_order)\n",
    "print(f\"deleted the duplicated values using set function:{no_deplicates_num}\")"
   ]
  },
  {
   "cell_type": "code",
   "execution_count": 3,
   "id": "5a60319c",
   "metadata": {},
   "outputs": [
    {
     "name": "stdout",
     "output_type": "stream",
     "text": [
      "Matrix\n",
      "[1, 2, 3]\n",
      "[4, 5, 6]\n",
      "[7, 8, 9]\n",
      "Im slicing the second row and third column elements: 6\n"
     ]
    }
   ],
   "source": [
    "### Assignment 7: Nested Lists\n",
    "\n",
    "#Create a nested list representing a 3x3 matrix and print the matrix. Access and print the element at the second row and third column.\n",
    "\n",
    "matrix = [\n",
    "    [1,2,3],\n",
    "    [4,5,6],\n",
    "    [7,8,9]\n",
    "]\n",
    "\n",
    "print(\"Matrix\")\n",
    "\n",
    "for row in matrix:\n",
    "    print(row)\n",
    "\n",
    "print(f\"Im slicing the second row and third column elements: {matrix[1][2]}\")"
   ]
  },
  {
   "cell_type": "code",
   "execution_count": 1,
   "id": "47e14930",
   "metadata": {},
   "outputs": [
    {
     "name": "stdout",
     "output_type": "stream",
     "text": [
      "{'Name': 'Haseena', 'Score': 100}\n",
      "{'Name': 'Varun', 'Score': 98}\n",
      "{'Name': 'Vimal', 'Score': 96}\n",
      "{'Name': 'Surya', 'Score': 78}\n",
      "{'Name': 'Kamali', 'Score': 75}\n",
      "{'Name': 'Vaibhavi', 'Score': 45}\n"
     ]
    }
   ],
   "source": [
    "### Assignment 8: List of Dictionaries\n",
    "\n",
    "#Create a list of dictionaries where each dictionary represents a student with keys 'name' and 'score'. #\n",
    "# Sort the list of dictionaries by the 'score' in descending order and print the sorted list.\n",
    "\n",
    "student_details = [\n",
    "    {\"Name\":\"Vimal\", \"Score\": 96},\n",
    "    {\"Name\":\"Varun\", \"Score\": 98},\n",
    "    {\"Name\":\"Surya\", \"Score\": 78},\n",
    "    {\"Name\":\"Kamali\", \"Score\": 75},\n",
    "    {\"Name\":\"Vaibhavi\", \"Score\":45},\n",
    "    {\"Name\":\"Haseena\", \"Score\":100}\n",
    "]\n",
    "\n",
    "Student_sorted_list = sorted(student_details,key=lambda x:x[\"Score\"], reverse=True)\n",
    "\n",
    "for i in Student_sorted_list:\n",
    "    print(i)"
   ]
  },
  {
   "cell_type": "code",
   "execution_count": 10,
   "id": "8859ff4d",
   "metadata": {},
   "outputs": [
    {
     "name": "stdout",
     "output_type": "stream",
     "text": [
      "[1, 2, 3, 4, 5, 6, 7, 8, 9, 10]\n",
      "<class 'list'>\n",
      "[1, 3, 5, 7, 8, 99, 10]\n"
     ]
    }
   ],
   "source": [
    "### Assignment 11: List Manipulation\n",
    "\n",
    "#Create a list of the first 10 positive integers. Remove the elements at indices 2, 4, and 6, and insert the element '99' at index 5. \n",
    "# Print the modified list.\n",
    "\n",
    "num_list = list(range(1, 11))\n",
    "print(num_list)\n",
    "print(type(num_list))\n",
    "\n",
    "num_list.remove(2)\n",
    "num_list.remove(4)\n",
    "num_list.remove(6)\n",
    "num_list[5] = 99\n",
    "print(num_list)"
   ]
  },
  {
   "cell_type": "code",
   "execution_count": 14,
   "id": "1520e58e",
   "metadata": {},
   "outputs": [
    {
     "name": "stdout",
     "output_type": "stream",
     "text": [
      "[1, 2, 3, 4, 5, 6, 7, 8, 9, 10]\n",
      "[12, 13, 14, 15, 16, 17, 18, 19, 20, 21]\n",
      "[(1, 12), (2, 13), (3, 14), (4, 15), (5, 16), (6, 17), (7, 18), (8, 19), (9, 20), (10, 21)]\n"
     ]
    }
   ],
   "source": [
    "### Assignment 12: List Zipping\n",
    "\n",
    "#Create two lists of the same length. Use the `zip` function to combine these lists into a list of tuples and print the result.\n",
    "\n",
    "lst1 = list(range(1, 11))\n",
    "print(lst1)\n",
    "\n",
    "lst2 = list(range(12, 22))\n",
    "print(lst2)\n",
    "\n",
    "lst3 = list(zip(lst1, lst2))\n",
    "print(lst3)"
   ]
  },
  {
   "cell_type": "code",
   "execution_count": 16,
   "id": "a85a2ea9",
   "metadata": {},
   "outputs": [
    {
     "name": "stdout",
     "output_type": "stream",
     "text": [
      "Orginal List: [1, 2, 3, 4, 5, 6, 7, 8, 9, 10]\n",
      "Reversal List: [10, 9, 8, 7, 6, 5, 4, 3, 2, 1]\n"
     ]
    }
   ],
   "source": [
    "### Assignment 13: List Reversal\n",
    "\n",
    "#Write a function that takes a list and returns a new list with the elements in reverse order. Print the original and reversed lists.\n",
    "\n",
    "def reversal_list(lst):\n",
    "    return lst[::-1]\n",
    "\n",
    "lst = list(range(1, 11))\n",
    "print(\"Orginal List:\", lst)\n",
    "\n",
    "reversallist = reversal_list(lst)\n",
    "print(\"Reversal List:\", reversallist)"
   ]
  },
  {
   "cell_type": "code",
   "execution_count": 18,
   "id": "142dc67f",
   "metadata": {},
   "outputs": [
    {
     "name": "stdout",
     "output_type": "stream",
     "text": [
      "Orginal_list: [1, 2, 3, 4, 5, 6, 7, 8, 9, 10]\n",
      "roatated list: [3, 4, 5, 6, 7, 8, 9, 10, 1, 2]\n"
     ]
    }
   ],
   "source": [
    "### Assignment 14: List Rotation\n",
    "\n",
    "#Write a function that rotates a list by n positions. Print the original and rotated lists\n",
    "\n",
    "def roatates_list(lst, n):\n",
    "    return lst[n:] + lst[:n]\n",
    "\n",
    "Orginal_list = list(range(1, 11))\n",
    "print(f\"Orginal_list: {Orginal_list}\")\n",
    "roatestd = roatates_list(Orginal_list, 2)\n",
    "print(f\"roatated list: {roatestd}\")"
   ]
  },
  {
   "cell_type": "code",
   "execution_count": 19,
   "id": "8db47f91",
   "metadata": {},
   "outputs": [
    {
     "name": "stdout",
     "output_type": "stream",
     "text": [
      "Orginal list: [1, 2, 3, 4, 5, 6, 7, 8, 9, 10]\n",
      "Orginal list: [5, 6, 7, 8, 9, 10]\n",
      "Only contiaing the same elements in both list: [5, 6, 7, 8, 9, 10]\n"
     ]
    }
   ],
   "source": [
    "### Assignment 15: List Intersection\n",
    "\n",
    "#Write a function that takes two lists and returns a new list containing only the elements that are present in both lists. \n",
    "# Print the intersected list.\n",
    "\n",
    "def list_intersection (lst1, lst2):\n",
    "    return [i for i in lst1 if i in lst2]\n",
    "\n",
    "lst1 = list(range(1, 11))\n",
    "lst2 = list(range(5,11))\n",
    "print(\"Orginal list:\", lst1)\n",
    "print(\"Orginal list:\", lst2)\n",
    "\n",
    "lst3 = list_intersection(lst1, lst2)\n",
    "print(f\"Only contiaing the same elements in both list: {lst3}\")"
   ]
  },
  {
   "cell_type": "code",
   "execution_count": 23,
   "id": "03713f85",
   "metadata": {},
   "outputs": [
    {
     "name": "stdout",
     "output_type": "stream",
     "text": [
      "[1, 2, 3]\n",
      "[8, 9, 4]\n",
      "[2, 4, 8]\n",
      "Original Matrix: [[1, 2, 3], [8, 9, 4], [2, 4, 8]]\n",
      "[1, 8, 2]\n",
      "[2, 9, 4]\n",
      "[3, 4, 8]\n",
      "Transposed matrix: [[1, 8, 2], [2, 9, 4], [3, 4, 8]]\n"
     ]
    }
   ],
   "source": [
    "### Assignment 9: Matrix Transposition\n",
    "\n",
    "#Write a function that takes a 3x3 matrix (nested list) as input and returns its transpose. \n",
    "# Print the original and transposed matrices.\n",
    "\n",
    "def transposed_matrix(matrix):\n",
    "    transposed = [[matrix[j][i] for j in range(len(matrix))] for i in range(len(matrix[0]))]\n",
    "    return transposed\n",
    "\n",
    "matrix = [\n",
    "    [1,2,3],\n",
    "    [8,9,4],\n",
    "    [2,4,8]\n",
    "]\n",
    "\n",
    "for i in matrix:\n",
    "    print(i)\n",
    "print(\"Original Matrix:\", matrix)\n",
    "\n",
    "transposed = transposed_matrix(matrix)\n",
    "\n",
    "for i in transposed:\n",
    "    print(i)\n",
    "\n",
    "print(\"Transposed matrix:\", transposed)"
   ]
  },
  {
   "cell_type": "code",
   "execution_count": 26,
   "id": "3c114f30",
   "metadata": {},
   "outputs": [
    {
     "name": "stdout",
     "output_type": "stream",
     "text": [
      "[[1, 2, 3], [8, 9, 4], [2, 4, 8]]\n",
      "[1, 2, 3, 8, 9, 4, 2, 4, 8]\n"
     ]
    }
   ],
   "source": [
    "### Assignment 10: Flattening a Nested List\n",
    "\n",
    "#Write a function that takes a nested list and flattens it into a single list. Print the original and flattened lists.\n",
    "\n",
    "def flattening(nestedlist):\n",
    "    flated_list = [item for sublist in nestedlist for item in sublist ]\n",
    "    return flated_list\n",
    "\n",
    "print(matrix)\n",
    "\n",
    "flatedlist = flattening(matrix)\n",
    "print(flatedlist)"
   ]
  },
  {
   "cell_type": "code",
   "execution_count": null,
   "id": "e048f9c6",
   "metadata": {},
   "outputs": [],
   "source": []
  },
  {
   "cell_type": "code",
   "execution_count": null,
   "id": "18af29e4",
   "metadata": {},
   "outputs": [],
   "source": []
  },
  {
   "cell_type": "code",
   "execution_count": null,
   "id": "111ef426",
   "metadata": {},
   "outputs": [],
   "source": []
  }
 ],
 "metadata": {
  "kernelspec": {
   "display_name": "base",
   "language": "python",
   "name": "python3"
  },
  "language_info": {
   "codemirror_mode": {
    "name": "ipython",
    "version": 3
   },
   "file_extension": ".py",
   "mimetype": "text/x-python",
   "name": "python",
   "nbconvert_exporter": "python",
   "pygments_lexer": "ipython3",
   "version": "3.12.4"
  }
 },
 "nbformat": 4,
 "nbformat_minor": 5
}

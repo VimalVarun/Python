{
 "cells": [
  {
   "cell_type": "markdown",
   "metadata": {},
   "source": [
    "# Lesson 1.2: Python Basics\n",
    "## Topics Covered:\n",
    "- Syntax and Semantics\n",
    "- Variables and Data Types\n",
    "- Basic Operators (Arithmetic, Comparison, Logical)\n"
   ]
  },
  {
   "cell_type": "markdown",
   "metadata": {},
   "source": [
    "## 1. Syntax and Semantics\n",
    "\n",
    "**Question 1:** Write a Python program to print \"Hello, World!\"."
   ]
  },
  {
   "cell_type": "code",
   "execution_count": 1,
   "metadata": {},
   "outputs": [
    {
     "name": "stdout",
     "output_type": "stream",
     "text": [
      "Hello world\n"
     ]
    }
   ],
   "source": [
    "print(\"Hello world\")"
   ]
  },
  {
   "cell_type": "markdown",
   "metadata": {},
   "source": [
    "**Question 2:** Write a Python program that takes a user input and prints it."
   ]
  },
  {
   "cell_type": "code",
   "execution_count": 2,
   "metadata": {},
   "outputs": [
    {
     "data": {
      "text/plain": [
       "10"
      ]
     },
     "execution_count": 2,
     "metadata": {},
     "output_type": "execute_result"
    }
   ],
   "source": [
    "num = int(input(\"Enter a any number\"))\n",
    "num"
   ]
  },
  {
   "cell_type": "markdown",
   "metadata": {},
   "source": [
    "**Question 3:** Write a Python program to check if a number is positive, negative, or zero."
   ]
  },
  {
   "cell_type": "code",
   "execution_count": 11,
   "metadata": {},
   "outputs": [
    {
     "name": "stdout",
     "output_type": "stream",
     "text": [
      "This is the postive number: 10\n"
     ]
    }
   ],
   "source": [
    "num = int(input(\"Enter a any numbers\"))\n",
    "\n",
    "if num > 0:\n",
    "    print(f\"This is the postive number: {num}\")\n",
    "elif num < 0:\n",
    "    print(f\"This is the negative number: {num}\")\n",
    "elif num == 0:\n",
    "    print(f\"This is the zero number: {num}\")\n",
    "else:\n",
    "    print(\"This is not the number\")\n"
   ]
  },
  {
   "cell_type": "markdown",
   "metadata": {},
   "source": [
    "**Question 4:** Write a Python program to find the largest of three numbers."
   ]
  },
  {
   "cell_type": "code",
   "execution_count": 12,
   "metadata": {},
   "outputs": [
    {
     "name": "stdout",
     "output_type": "stream",
     "text": [
      "this is the largest of the three numbers: 188\n"
     ]
    }
   ],
   "source": [
    "num = int(input(\"Enter a any number\"))\n",
    "num1 = int(input(\"Enter a any number\"))\n",
    "num2 = int(input(\"Enter a any number\"))\n",
    "\n",
    "if num > num1 and num > num2:\n",
    "    print(f\"This is the largerst of the three numbers is {num}\")\n",
    "elif num1 > num and num1 > num2:\n",
    "    print(f\"This is the largerst of the three numbers is {num1}\")\n",
    "else:\n",
    "    print(f\"this is the largest of the three numbers: {num2}\")"
   ]
  },
  {
   "cell_type": "markdown",
   "metadata": {},
   "source": [
    "**Question 5:** Write a Python program to calculate the factorial of a number."
   ]
  },
  {
   "cell_type": "code",
   "execution_count": 15,
   "metadata": {},
   "outputs": [
    {
     "name": "stdout",
     "output_type": "stream",
     "text": [
      "The orginal number is 5 and the factorial number is 120\n"
     ]
    }
   ],
   "source": [
    "def factorial(n):\n",
    "    if n == 0:\n",
    "        return 1\n",
    "    else:\n",
    "        return n * factorial(n-1)\n",
    "\n",
    "num = int(input(\"Enter a any number\"))\n",
    "\n",
    "print(f\"The orginal number is {num} and the factorial number is {factorial(num)}\")"
   ]
  },
  {
   "cell_type": "markdown",
   "metadata": {},
   "source": [
    "## 2. Variables and Data Types\n",
    "\n",
    "**Question 6:** Create variables of different data types: integer, float, string, and boolean. Print their values and types."
   ]
  },
  {
   "cell_type": "code",
   "execution_count": 16,
   "metadata": {},
   "outputs": [
    {
     "name": "stdout",
     "output_type": "stream",
     "text": [
      "<class 'str'>\n",
      "<class 'int'>\n",
      "<class 'float'>\n",
      "<class 'bool'>\n"
     ]
    }
   ],
   "source": [
    "Name = \"Vimal\"\n",
    "print(type(Name))\n",
    "Age = 27\n",
    "print(type(Age))\n",
    "Weight = 68.5\n",
    "print(type(Weight))\n",
    "Data_analyst = True\n",
    "print(type(Data_analyst))"
   ]
  },
  {
   "cell_type": "markdown",
   "metadata": {},
   "source": [
    "**Question 7:** Write a Python program to swap the values of two variables."
   ]
  },
  {
   "cell_type": "code",
   "execution_count": 19,
   "metadata": {},
   "outputs": [
    {
     "name": "stdout",
     "output_type": "stream",
     "text": [
      "10\n",
      "5\n",
      "After swape a: 5\n",
      "After swape b: 10\n"
     ]
    }
   ],
   "source": [
    "a = 10\n",
    "b = 5\n",
    "print(a)\n",
    "print(b)\n",
    "\n",
    "a, b = b, a\n",
    "\n",
    "print(f\"After swape a: {a}\")\n",
    "print(f\"After swape b: {b}\")"
   ]
  },
  {
   "cell_type": "markdown",
   "metadata": {},
   "source": [
    "**Question 8:** Write a Python program to convert Celsius to Fahrenheit."
   ]
  },
  {
   "cell_type": "code",
   "execution_count": 20,
   "metadata": {},
   "outputs": [
    {
     "name": "stdout",
     "output_type": "stream",
     "text": [
      "55.0°C is equal to 131.0°F\n"
     ]
    }
   ],
   "source": [
    "# Solution\n",
    "celsius = float(input(\"Enter temperature in Celsius: \"))\n",
    "fahrenheit = (celsius * 9/5) + 32\n",
    "print(f\"{celsius}°C is equal to {fahrenheit}°F\")"
   ]
  },
  {
   "cell_type": "markdown",
   "metadata": {},
   "source": [
    "**Question 9:** Write a Python program to concatenate two strings."
   ]
  },
  {
   "cell_type": "code",
   "execution_count": 24,
   "metadata": {},
   "outputs": [
    {
     "name": "stdout",
     "output_type": "stream",
     "text": [
      "I love USA\n"
     ]
    }
   ],
   "source": [
    "a = \"I love\"\n",
    "b = \"USA\"\n",
    "\n",
    "c = a+' '+b\n",
    "print(c)"
   ]
  },
  {
   "cell_type": "markdown",
   "metadata": {},
   "source": [
    "**Question 10:** Write a Python program to check if a variable is of a specific data type."
   ]
  },
  {
   "cell_type": "code",
   "execution_count": 28,
   "metadata": {},
   "outputs": [
    {
     "name": "stdout",
     "output_type": "stream",
     "text": [
      "Yes this is integer number is 44\n"
     ]
    }
   ],
   "source": [
    "Num = 44\n",
    "\n",
    "if isinstance (Num, int):\n",
    "    print(f\"Yes this is integer number is {Num}\")\n",
    "else:\n",
    "    print(f\"No this is not the number: {Num}\")"
   ]
  },
  {
   "cell_type": "markdown",
   "metadata": {},
   "source": [
    "## 3. Basic Operators (Arithmetic, Comparison, Logical)\n",
    "\n",
    "**Question 11:** Write a Python program to perform arithmetic operations: addition, subtraction, multiplication, and division."
   ]
  },
  {
   "cell_type": "code",
   "execution_count": 29,
   "metadata": {},
   "outputs": [
    {
     "name": "stdout",
     "output_type": "stream",
     "text": [
      "Addtion num1 and num 2: 140\n",
      "Subtraction num1 - num2: -30\n",
      "Multiplication num1 * num2: 4675\n",
      "division num1/num2: 0.6470588235294118\n"
     ]
    }
   ],
   "source": [
    "num1 = 55\n",
    "num2 = 85\n",
    "\n",
    "print(f\"Addtion num1 and num 2: {num1 + num2}\")\n",
    "print(f\"Subtraction num1 - num2: {num1 - num2}\")\n",
    "print(f\"Multiplication num1 * num2: {num1 * num2}\")\n",
    "print(f\"division num1/num2: {num1/num2}\")"
   ]
  },
  {
   "cell_type": "markdown",
   "metadata": {},
   "source": [
    "**Question 12:** Write a Python program to demonstrate comparison operators: equal to, not equal to, greater than, less than."
   ]
  },
  {
   "cell_type": "code",
   "execution_count": 1,
   "metadata": {},
   "outputs": [
    {
     "name": "stdout",
     "output_type": "stream",
     "text": [
      "5==8: False\n",
      "5!=8: True\n",
      "5>8: False\n",
      "5<8:True\n"
     ]
    }
   ],
   "source": [
    "a = 5\n",
    "b = 8\n",
    "\n",
    "print(f\"{a}=={b}: {a==b}\")\n",
    "print(f\"{a}!={b}: {a!=b}\")\n",
    "print(f\"{a}>{b}: {a>b}\")\n",
    "print(f\"{a}<{b}:{a<b}\")"
   ]
  },
  {
   "cell_type": "markdown",
   "metadata": {},
   "source": [
    "**Question 13:** Write a Python program to demonstrate logical operators: and, or, not."
   ]
  },
  {
   "cell_type": "code",
   "execution_count": 4,
   "metadata": {},
   "outputs": [
    {
     "name": "stdout",
     "output_type": "stream",
     "text": [
      "True and False: False\n",
      "True or False: True\n",
      "not true: False\n"
     ]
    }
   ],
   "source": [
    "a = True\n",
    "b = False\n",
    "\n",
    "print(f\"{a} and {b}: {a and b}\")\n",
    "print(f'{a} or {b}: {a or b}')\n",
    "print(f\"not true: {not a}\")"
   ]
  },
  {
   "cell_type": "markdown",
   "metadata": {},
   "source": [
    "**Question 14:** Write a Python program to calculate the square of a number."
   ]
  },
  {
   "cell_type": "code",
   "execution_count": 6,
   "metadata": {},
   "outputs": [
    {
     "name": "stdout",
     "output_type": "stream",
     "text": [
      "Square_number: 64\n"
     ]
    }
   ],
   "source": [
    "def square(x):\n",
    "    return x*x\n",
    "\n",
    "num = 8\n",
    "\n",
    "square_numbers = square(num)\n",
    "print(f\"Square_number: {square_numbers}\")"
   ]
  },
  {
   "cell_type": "markdown",
   "metadata": {},
   "source": [
    "**Question 15:** Write a Python program to check if a number is even or odd."
   ]
  },
  {
   "cell_type": "code",
   "execution_count": 9,
   "metadata": {},
   "outputs": [
    {
     "name": "stdout",
     "output_type": "stream",
     "text": [
      "This is the even number: 12\n"
     ]
    }
   ],
   "source": [
    "num = 12\n",
    "\n",
    "if num%2==0:\n",
    "    print(f\"This is the even number: {num}\")\n",
    "else:\n",
    "    print(f\"This is not the even number: {num}\")"
   ]
  },
  {
   "cell_type": "markdown",
   "metadata": {},
   "source": [
    "**Question 16:** Write a Python program to find the sum of the first n natural numbers."
   ]
  },
  {
   "cell_type": "code",
   "execution_count": 12,
   "metadata": {},
   "outputs": [
    {
     "name": "stdout",
     "output_type": "stream",
     "text": [
      "The sum of 10 first n natural number 55\n"
     ]
    }
   ],
   "source": [
    "num = int(input(\"Enter a number\"))\n",
    "\n",
    "sum_num = (num * (num+1)) //2\n",
    "\n",
    "sum_of_num = (f\"The sum of {num} first n natural number {sum_num}\")\n",
    "print(sum_of_num)"
   ]
  },
  {
   "cell_type": "markdown",
   "metadata": {},
   "source": [
    "**Question 17:** Write a Python program to check if a year is a leap year."
   ]
  },
  {
   "cell_type": "code",
   "execution_count": 17,
   "metadata": {},
   "outputs": [
    {
     "name": "stdout",
     "output_type": "stream",
     "text": [
      "This is the leap year: 2028\n"
     ]
    }
   ],
   "source": [
    "year = int(input(\"Enter a number\"))\n",
    "\n",
    "if year%4==0:\n",
    "    print(f\"This is the leap year: {year}\")\n",
    "else:\n",
    "    print(f\"This is not the leap year: {year}\")"
   ]
  },
  {
   "cell_type": "markdown",
   "metadata": {},
   "source": [
    "**Question 18:** Write a Python program to reverse a string."
   ]
  },
  {
   "cell_type": "code",
   "execution_count": 18,
   "metadata": {},
   "outputs": [
    {
     "name": "stdout",
     "output_type": "stream",
     "text": [
      "nezitic ASU a eb ot duorp mi yrtnuoc ym evol I\n"
     ]
    }
   ],
   "source": [
    "name = \"I love my country im proud to be a USA citizen\"\n",
    "\n",
    "print(name[::-1])"
   ]
  },
  {
   "cell_type": "markdown",
   "metadata": {},
   "source": [
    "**Question 19:** Write a Python program to check if a string is a palindrome."
   ]
  },
  {
   "cell_type": "code",
   "execution_count": 21,
   "metadata": {},
   "outputs": [
    {
     "name": "stdout",
     "output_type": "stream",
     "text": [
      "No this is not the palindrome words: CSK\n"
     ]
    }
   ],
   "source": [
    "palindrome = input(\"Enter a name\")\n",
    "\n",
    "if palindrome== palindrome[::-1]:\n",
    "    print(f\"Yes this is the palindrome words: {palindrome}\")\n",
    "else:\n",
    "    print(f\"No this is not the palindrome words: {palindrome}\")"
   ]
  },
  {
   "cell_type": "markdown",
   "metadata": {},
   "source": [
    "**Question 20:** Write a Python program to sort a list of numbers in ascending order."
   ]
  },
  {
   "cell_type": "code",
   "execution_count": 23,
   "metadata": {},
   "outputs": [
    {
     "name": "stdout",
     "output_type": "stream",
     "text": [
      "This is the sorted number list: [0, 2, 5, 6, 7, 9, 11, 12, 32, 45, 55, 56, 75, 78, 85]\n"
     ]
    }
   ],
   "source": [
    "number =[int(x) for x in input(\"Enter numbers separated by space: \").split()]\n",
    "number.sort()\n",
    "print(f\"This is the sorted number list: {number}\")"
   ]
  },
  {
   "cell_type": "code",
   "execution_count": null,
   "metadata": {},
   "outputs": [],
   "source": []
  }
 ],
 "metadata": {
  "kernelspec": {
   "display_name": "base",
   "language": "python",
   "name": "python3"
  },
  "language_info": {
   "codemirror_mode": {
    "name": "ipython",
    "version": 3
   },
   "file_extension": ".py",
   "mimetype": "text/x-python",
   "name": "python",
   "nbconvert_exporter": "python",
   "pygments_lexer": "ipython3",
   "version": "3.12.4"
  }
 },
 "nbformat": 4,
 "nbformat_minor": 4
}
